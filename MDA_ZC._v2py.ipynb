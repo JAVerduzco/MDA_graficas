{
 "cells": [
  {
   "cell_type": "code",
   "execution_count": 1,
   "metadata": {},
   "outputs": [],
   "source": [
    "import datetime\n",
    "import pandas as pd\n",
    "import requests\n",
    "#import streamlit as st\n",
    "\n",
    "ZC = ['ACAPULCO', 'AGUASCALIENTES', 'APATZINGAN', 'CABORCA', 'CAMARGO', 'CAMPECHE', 'CANCUN', 'CARMEN', 'CASAS-GRANDES', 'CELAYA', 'CENTRO-ORIENTE', 'CENTRO-SUR', 'CHETUMAL', 'CHIHUAHUA', 'CHILPANCINGO', 'CHONTALPA', 'CIENEGA', 'COATZACOALCOS', 'COLIMA', 'CONSTITUCION', 'CORDOBA', 'CUAUHTEMOC', 'CUAUTLA', 'CUERNAVACA', 'CULIACAN', 'DURANGO', 'ENSENADA', 'FRESNILLO', 'GUADALAJARA', 'GUASAVE', 'GUAYMAS', 'HERMOSILLO', 'HUAJUAPAN', 'HUASTECA', 'HUATULCO', 'HUEJUTLA', 'IGUALA', 'IRAPUATO', 'IXMIQUILPAN', 'IZUCAR', 'JIQUILPAN', 'JUAREZ', 'LA-PAZ', 'LAGUNA', 'LAZARO-CARDENAS', 'LEON', 'LOS-ALTOS', 'LOS-CABOS', 'LOS-MOCHIS', 'LOS-RIOS', 'LOS-TUXTLAS', 'MANZANILLO', 'MATAMOROS', 'MATEHUALA', 'MAZATLAN', 'MERIDA', 'MEXICALI', 'MINAS', 'MONCLOVA', 'MONTEMORELOS', 'MONTERREY', 'MORELIA', 'MORELOS', 'MOTUL-TIZIMIN', 'NAVOJOA', 'NOGALES', 'NUEVO-LAREDO', 'OAXACA', 'OBREGON', 'ORIZABA', 'PIEDRAS-NEGRAS', 'POZA-RICA', 'PUEBLA', 'QUERETARO', 'REYNOSA', 'RIVIERA-MAYA', 'SABINAS', 'SALTILLO', 'SALVATIERRA', 'SAN-CRISTOBAL', 'SAN-JUAN-DEL-RIO', 'SAN-LUIS-POTOSI', 'SAN-MARTIN', 'SANLUIS', 'TAMPICO', 'TAPACHULA', 'TECAMACHALCO', 'TEHUACAN', 'TEHUANTEPEC', 'TEPIC-VALLARTA', 'TEZIUTLAN', 'TICUL', 'TIJUANA', 'TLAXCALA', 'TUXTLA', 'URUAPAN', 'VDM-CENTRO', 'VDM-NORTE', 'VDM-SUR', 'VERACRUZ', 'VICTORIA', 'VILLAHERMOSA', 'XALAPA', 'ZACAPU', 'ZACATECAS', 'ZAMORA', 'ZAPOTLAN', 'ZIHUATANEJO']\n",
    "SISTEMAS = ['SIN','BCA', 'BCS']"
   ]
  },
  {
   "cell_type": "code",
   "execution_count": null,
   "metadata": {},
   "outputs": [],
   "source": [
    "def zonaPML(sistema,zona,año_i,mes_i,dia_i,año_f,mes_f,dia_f):\n",
    "  #Información requerida\n",
    "  base_url = \"https://ws01.cenace.gob.mx:8082/SWPEND/SIM/\"\n",
    "  mercados = ['MDA']\n",
    "  plot_df = pd.DataFrame()\n",
    "\n",
    "\n",
    "  for mercado in mercados:\n",
    "    #Peticion\n",
    "    peticion = base_url + sistema + '/' + mercado +'/'+ zona +'/'+ año_i +'/'+ mes_i +'/'+ dia_i +'/'+ año_f +'/'+ mes_f +'/'+ dia_f + '/JSON'\n",
    "    response = requests.get(peticion)\n",
    "    x = response.json()\n",
    "    results = x['Resultados'][0]\n",
    "    pml_zone = results['Valores']\n",
    "    mem_df = pd.DataFrame(pml_zone)\n",
    "\n",
    "    #Formato de datos\n",
    "    mem_df['fecha']  = pd.to_datetime(mem_df['fecha'])\n",
    "    mem_df['hora']   = mem_df['hora'].astype(int)\n",
    "    mem_df['pz']     = mem_df['pz'].astype(float)\n",
    "    mem_df['pz_ene'] = mem_df['pz_ene'].astype(float)\n",
    "    mem_df['pz_per'] = mem_df['pz_per'].astype(float)\n",
    "    mem_df['pz_cng'] = mem_df['pz_cng'].astype(float)\n",
    "    mem_df['periodo'] = mem_df['fecha'].astype(str) + ' : '+ mem_df['hora'].astype(str)\n",
    "    mem_df.index = mem_df['fecha']\n",
    "\n",
    "    #Renombramos columnas\n",
    "    mem_df.rename(columns={'pz':'Precio Zonal (MXN/MWh)',\n",
    "                           'pz_ene':'Componente Energía (MXN/MWh)',\n",
    "                           'pz_per':'Componente Pérdidas (MXN/MWh)',\n",
    "                           'pz_cng':'Componente Congestión (MXN/MWh)'},inplace=True)\n",
    "      \n",
    "    #Creamos una columna con la información del mercado asociado a esa petición  \n",
    "    if mercado == 'MDA':\n",
    "      mem_df['mercado'] = 'MDA'\n",
    "    else:\n",
    "      mem_df['mercado'] = 'MTR'\n",
    "\n",
    "    #Concatenamos el df obtenido de la petición en plot_df\n",
    "    plot_df = pd.concat([plot_df,mem_df],ignore_index=True)\n",
    "    print(mercado + ': Petición concretada')\n",
    "\n",
    "  #Graficamos plot_df una vez hayamos terminado el loop  \n",
    "  import plotly.express as px\n",
    "  \n",
    "  #Escogemos el valor de la columna Precio Zonal \n",
    "  fig = px.line(plot_df, x='periodo', y='Precio Zonal (MXN/MWh)',title= zona )\n",
    "  #st.plotly_chart(fig, use_container_width=True)\n",
    "  #fig.show()"
   ]
  },
  {
   "cell_type": "code",
   "execution_count": null,
   "metadata": {},
   "outputs": [],
   "source": [
    "\n",
    "#sistema = random.choice(SISTEMAS)\n",
    "#ayer = datetime.date.today()  - datetime.timedelta(days=1)\n",
    "#with st.sidebar:\n",
    "#  sistema = st.selectbox('Sistema',SISTEMAS)\n",
    "#  zona = st.selectbox('Zona de carga',ZC)\n",
    "#  fecha_i = st.date_input(\"Fecha inicial\", \n",
    "#                          ayer)\n",
    "#  fecha_f = st.date_input(\"Fecha final\",\n",
    "#                          ayer)\n",
    "                          \n",
    "\n",
    "zonaPML(sistema,\n",
    "        zona,\n",
    "        str(fecha_i.year),\n",
    "        '0'+str(fecha_i.month),\n",
    "        '0'+str(fecha_i.day),\n",
    "        str(fecha_f.year),\n",
    "        '0'+str(fecha_f.month),\n",
    "        '0'+str(fecha_f.day))\n"
   ]
  }
 ],
 "metadata": {
  "kernelspec": {
   "display_name": "Python 3",
   "language": "python",
   "name": "python3"
  },
  "language_info": {
   "codemirror_mode": {
    "name": "ipython",
    "version": 3
   },
   "file_extension": ".py",
   "mimetype": "text/x-python",
   "name": "python",
   "nbconvert_exporter": "python",
   "pygments_lexer": "ipython3",
   "version": "3.11.3"
  },
  "orig_nbformat": 4
 },
 "nbformat": 4,
 "nbformat_minor": 2
}
